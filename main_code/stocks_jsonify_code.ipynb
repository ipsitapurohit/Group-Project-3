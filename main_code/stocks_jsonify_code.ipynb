{
 "cells": [
  {
   "cell_type": "code",
   "execution_count": null,
   "id": "b8f18efb",
   "metadata": {},
   "outputs": [],
   "source": [
    "import json\n",
    "\n",
    "# Specify the file path\n",
    "file_path_aapl = r'C:\\Users\\ipsit\\OneDrive\\Desktop\\Data\\aapl.json'\n",
    "\n",
    "# Read the contents of the file\n",
    "with open(file_path_aapl, 'r') as file:\n",
    "    data_aapl = file.read()\n",
    "\n",
    "# Parse the data into a Python dictionary\n",
    "parsed_data_aapl = json.loads(data_aapl)\n",
    "\n",
    "# Convert Python dictionary to JSON format\n",
    "json_data_aapl = json.dumps(parsed_data_aapl)\n",
    "\n",
    "print(json_data_aapl)"
   ]
  },
  {
   "cell_type": "code",
   "execution_count": null,
   "id": "d41ad444",
   "metadata": {},
   "outputs": [],
   "source": [
    "import json\n",
    "\n",
    "# Specify the file path\n",
    "file_path_goog = r'C:\\Users\\ipsit\\OneDrive\\Desktop\\Data\\goog.json'\n",
    "\n",
    "# Read the contents of the file\n",
    "with open(file_path_goog, 'r') as file:\n",
    "    data_goog = file.read()\n",
    "\n",
    "# Parse the data into a Python dictionary\n",
    "parsed_data_goog = json.loads(data_goog)\n",
    "\n",
    "# Convert Python dictionary to JSON format\n",
    "json_data_goog = json.dumps(parsed_data_goog)\n",
    "\n",
    "print(json_data_goog)"
   ]
  },
  {
   "cell_type": "code",
   "execution_count": null,
   "id": "a6c3b932",
   "metadata": {},
   "outputs": [],
   "source": [
    "import json\n",
    "\n",
    "# Specify the file path\n",
    "file_path_meta = r'C:\\Users\\ipsit\\OneDrive\\Desktop\\Data\\meta.json'\n",
    "\n",
    "# Read the contents of the file\n",
    "with open(file_path_meta, 'r') as file:\n",
    "    data_meta = file.read()\n",
    "\n",
    "# Parse the data into a Python dictionary\n",
    "parsed_data_meta = json.loads(data_meta)\n",
    "\n",
    "# Convert Python dictionary to JSON format\n",
    "json_data_meta = json.dumps(parsed_data_meta)\n",
    "\n",
    "print(json_data_meta)"
   ]
  },
  {
   "cell_type": "code",
   "execution_count": null,
   "id": "dfac8287",
   "metadata": {},
   "outputs": [],
   "source": [
    "import json\n",
    "\n",
    "# Specify the file path\n",
    "file_path_msft = r'C:\\Users\\ipsit\\OneDrive\\Desktop\\Data\\msft.json'\n",
    "\n",
    "# Read the contents of the file\n",
    "with open(file_path_msft, 'r') as file:\n",
    "    data_msft = file.read()\n",
    "\n",
    "# Parse the data into a Python dictionary\n",
    "parsed_data_msft = json.loads(data_msft)\n",
    "\n",
    "# Convert Python dictionary to JSON format\n",
    "json_data_msft = json.dumps(parsed_data_msft)\n",
    "\n",
    "print(json_data_msft)"
   ]
  },
  {
   "cell_type": "code",
   "execution_count": null,
   "id": "8921711b",
   "metadata": {},
   "outputs": [],
   "source": [
    "import json\n",
    "\n",
    "# Specify the file path\n",
    "file_path_nflx = r'C:\\Users\\ipsit\\OneDrive\\Desktop\\Data\\nflx.json'\n",
    "\n",
    "# Read the contents of the file\n",
    "with open(file_path_nflx, 'r') as file:\n",
    "    data_nflx = file.read()\n",
    "\n",
    "# Parse the data into a Python dictionary\n",
    "parsed_data_nflx = json.loads(data_nflx)\n",
    "\n",
    "# Convert Python dictionary to JSON format\n",
    "json_data_nflx = json.dumps(parsed_data_nflx)\n",
    "\n",
    "print(json_data_nflx)"
   ]
  },
  {
   "cell_type": "code",
   "execution_count": null,
   "id": "e5d57539",
   "metadata": {},
   "outputs": [],
   "source": [
    "import json\n",
    "\n",
    "# Specify the file path\n",
    "file_path_nvda = r'C:\\Users\\ipsit\\OneDrive\\Desktop\\Data\\nvda.json'\n",
    "\n",
    "# Read the contents of the file\n",
    "with open(file_path_nvda, 'r') as file:\n",
    "    data_nvda = file.read()\n",
    "\n",
    "# Parse the data into a Python dictionary\n",
    "parsed_data_nvda = json.loads(data_nvda)\n",
    "\n",
    "# Convert Python dictionary to JSON format\n",
    "json_data_nvda = json.dumps(parsed_data_nvda)\n",
    "\n",
    "print(json_data_nvda)"
   ]
  },
  {
   "cell_type": "code",
   "execution_count": null,
   "id": "5544fd26",
   "metadata": {},
   "outputs": [],
   "source": [
    "import json\n",
    "\n",
    "# Specify the file path\n",
    "file_path_tsla = r'C:\\Users\\ipsit\\OneDrive\\Desktop\\Data\\tsla.json'\n",
    "\n",
    "# Read the contents of the file\n",
    "with open(file_path_tsla, 'r') as file:\n",
    "    data_tsla = file.read()\n",
    "\n",
    "# Parse the data into a Python dictionary\n",
    "parsed_data_tsla = json.loads(data_tsla)\n",
    "\n",
    "# Convert Python dictionary to JSON format\n",
    "json_data_tsla = json.dumps(parsed_data_tsla)\n",
    "\n",
    "print(json_data_tsla)"
   ]
  }
 ],
 "metadata": {
  "kernelspec": {
   "display_name": "Python 3 (ipykernel)",
   "language": "python",
   "name": "python3"
  },
  "language_info": {
   "codemirror_mode": {
    "name": "ipython",
    "version": 3
   },
   "file_extension": ".py",
   "mimetype": "text/x-python",
   "name": "python",
   "nbconvert_exporter": "python",
   "pygments_lexer": "ipython3",
   "version": "3.11.5"
  }
 },
 "nbformat": 4,
 "nbformat_minor": 5
}
